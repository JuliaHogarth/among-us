{
 "cells": [
  {
   "cell_type": "code",
   "execution_count": 2,
   "id": "ed3d1b07-2022-49b0-af52-7da1eaaae3c4",
   "metadata": {},
   "outputs": [],
   "source": [
    "import pandas as pd\n",
    "%matplotlib inline"
   ]
  },
  {
   "cell_type": "code",
   "execution_count": 3,
   "id": "d5c62c15-4e56-4b38-b65c-93ed1adee85e",
   "metadata": {},
   "outputs": [],
   "source": [
    "path = \"answers.csv\"\n",
    "answers = pd.read_csv(path)"
   ]
  },
  {
   "cell_type": "code",
   "execution_count": 4,
   "id": "e12c102b-9ed6-4b8b-8f49-21b39822ea9e",
   "metadata": {},
   "outputs": [
    {
     "data": {
      "text/html": [
       "<div>\n",
       "<style scoped>\n",
       "    .dataframe tbody tr th:only-of-type {\n",
       "        vertical-align: middle;\n",
       "    }\n",
       "\n",
       "    .dataframe tbody tr th {\n",
       "        vertical-align: top;\n",
       "    }\n",
       "\n",
       "    .dataframe thead th {\n",
       "        text-align: right;\n",
       "    }\n",
       "</style>\n",
       "<table border=\"1\" class=\"dataframe\">\n",
       "  <thead>\n",
       "    <tr style=\"text-align: right;\">\n",
       "      <th></th>\n",
       "      <th>Timestamp</th>\n",
       "      <th>language</th>\n",
       "      <th>coding</th>\n",
       "      <th>maths</th>\n",
       "      <th>superpower</th>\n",
       "      <th>Afterlife</th>\n",
       "      <th>love</th>\n",
       "      <th>flavour</th>\n",
       "      <th>egg</th>\n",
       "      <th>steak</th>\n",
       "    </tr>\n",
       "  </thead>\n",
       "  <tbody>\n",
       "    <tr>\n",
       "      <th>0</th>\n",
       "      <td>2023/11/16 10:35:48 AM GMT</td>\n",
       "      <td>2</td>\n",
       "      <td>8</td>\n",
       "      <td>6</td>\n",
       "      <td>Shapeshifting</td>\n",
       "      <td>Eternal nothingness</td>\n",
       "      <td>Let the love of your life die</td>\n",
       "      <td>Salty</td>\n",
       "      <td>Chicken</td>\n",
       "      <td>I don't eat steak</td>\n",
       "    </tr>\n",
       "    <tr>\n",
       "      <th>1</th>\n",
       "      <td>2023/11/16 10:54:59 AM GMT</td>\n",
       "      <td>1</td>\n",
       "      <td>7</td>\n",
       "      <td>7</td>\n",
       "      <td>Telekinesis</td>\n",
       "      <td>Afterlife</td>\n",
       "      <td>Let 100 random people die</td>\n",
       "      <td>Umami</td>\n",
       "      <td>Chicken</td>\n",
       "      <td>medium rare</td>\n",
       "    </tr>\n",
       "    <tr>\n",
       "      <th>2</th>\n",
       "      <td>2023/11/16 10:56:42 AM GMT</td>\n",
       "      <td>0</td>\n",
       "      <td>7</td>\n",
       "      <td>6</td>\n",
       "      <td>Teleportation</td>\n",
       "      <td>Eternal nothingness</td>\n",
       "      <td>Let the love of your life die</td>\n",
       "      <td>Umami</td>\n",
       "      <td>Egg</td>\n",
       "      <td>medium rare</td>\n",
       "    </tr>\n",
       "    <tr>\n",
       "      <th>3</th>\n",
       "      <td>2023/11/16 10:58:03 AM GMT</td>\n",
       "      <td>1</td>\n",
       "      <td>9</td>\n",
       "      <td>9</td>\n",
       "      <td>Teleportation</td>\n",
       "      <td>Eternal nothingness</td>\n",
       "      <td>Let 100 random people die</td>\n",
       "      <td>Umami</td>\n",
       "      <td>Egg</td>\n",
       "      <td>medium-well</td>\n",
       "    </tr>\n",
       "    <tr>\n",
       "      <th>4</th>\n",
       "      <td>2023/11/16 11:08:12 AM GMT</td>\n",
       "      <td>3</td>\n",
       "      <td>7</td>\n",
       "      <td>3</td>\n",
       "      <td>Mind reading</td>\n",
       "      <td>Afterlife</td>\n",
       "      <td>Let the love of your life die</td>\n",
       "      <td>Salty</td>\n",
       "      <td>Chicken</td>\n",
       "      <td>medium rare</td>\n",
       "    </tr>\n",
       "  </tbody>\n",
       "</table>\n",
       "</div>"
      ],
      "text/plain": [
       "                    Timestamp  language  coding  maths     superpower  \\\n",
       "0  2023/11/16 10:35:48 AM GMT         2       8      6  Shapeshifting   \n",
       "1  2023/11/16 10:54:59 AM GMT         1       7      7    Telekinesis   \n",
       "2  2023/11/16 10:56:42 AM GMT         0       7      6  Teleportation   \n",
       "3  2023/11/16 10:58:03 AM GMT         1       9      9  Teleportation   \n",
       "4  2023/11/16 11:08:12 AM GMT         3       7      3   Mind reading   \n",
       "\n",
       "             Afterlife                           love flavour      egg  \\\n",
       "0  Eternal nothingness  Let the love of your life die   Salty  Chicken   \n",
       "1            Afterlife      Let 100 random people die   Umami  Chicken   \n",
       "2  Eternal nothingness  Let the love of your life die   Umami      Egg   \n",
       "3  Eternal nothingness      Let 100 random people die   Umami      Egg   \n",
       "4            Afterlife  Let the love of your life die   Salty  Chicken   \n",
       "\n",
       "               steak  \n",
       "0  I don't eat steak  \n",
       "1        medium rare  \n",
       "2        medium rare  \n",
       "3        medium-well  \n",
       "4        medium rare  "
      ]
     },
     "execution_count": 4,
     "metadata": {},
     "output_type": "execute_result"
    }
   ],
   "source": [
    "answers.head()"
   ]
  },
  {
   "cell_type": "code",
   "execution_count": 5,
   "id": "b088e447-b5ce-4348-839e-ba3f0f4d8258",
   "metadata": {},
   "outputs": [
    {
     "data": {
      "text/html": [
       "<div>\n",
       "<style scoped>\n",
       "    .dataframe tbody tr th:only-of-type {\n",
       "        vertical-align: middle;\n",
       "    }\n",
       "\n",
       "    .dataframe tbody tr th {\n",
       "        vertical-align: top;\n",
       "    }\n",
       "\n",
       "    .dataframe thead th {\n",
       "        text-align: right;\n",
       "    }\n",
       "</style>\n",
       "<table border=\"1\" class=\"dataframe\">\n",
       "  <thead>\n",
       "    <tr style=\"text-align: right;\">\n",
       "      <th></th>\n",
       "      <th>Timestamp</th>\n",
       "      <th>language</th>\n",
       "      <th>coding</th>\n",
       "      <th>maths</th>\n",
       "      <th>superpower</th>\n",
       "      <th>Afterlife</th>\n",
       "      <th>love</th>\n",
       "      <th>flavour</th>\n",
       "      <th>egg</th>\n",
       "      <th>steak</th>\n",
       "    </tr>\n",
       "  </thead>\n",
       "  <tbody>\n",
       "    <tr>\n",
       "      <th>0</th>\n",
       "      <td>2023/11/16 10:35:48 AM GMT</td>\n",
       "      <td>2</td>\n",
       "      <td>8</td>\n",
       "      <td>6</td>\n",
       "      <td>Shapeshifting</td>\n",
       "      <td>Eternal nothingness</td>\n",
       "      <td>Let the love of your life die</td>\n",
       "      <td>Salty</td>\n",
       "      <td>Chicken</td>\n",
       "      <td>I don't eat steak</td>\n",
       "    </tr>\n",
       "    <tr>\n",
       "      <th>1</th>\n",
       "      <td>2023/11/16 10:54:59 AM GMT</td>\n",
       "      <td>1</td>\n",
       "      <td>7</td>\n",
       "      <td>7</td>\n",
       "      <td>Telekinesis</td>\n",
       "      <td>Afterlife</td>\n",
       "      <td>Let 100 random people die</td>\n",
       "      <td>Umami</td>\n",
       "      <td>Chicken</td>\n",
       "      <td>medium rare</td>\n",
       "    </tr>\n",
       "    <tr>\n",
       "      <th>2</th>\n",
       "      <td>2023/11/16 10:56:42 AM GMT</td>\n",
       "      <td>0</td>\n",
       "      <td>7</td>\n",
       "      <td>6</td>\n",
       "      <td>Teleportation</td>\n",
       "      <td>Eternal nothingness</td>\n",
       "      <td>Let the love of your life die</td>\n",
       "      <td>Umami</td>\n",
       "      <td>Egg</td>\n",
       "      <td>medium rare</td>\n",
       "    </tr>\n",
       "    <tr>\n",
       "      <th>3</th>\n",
       "      <td>2023/11/16 10:58:03 AM GMT</td>\n",
       "      <td>1</td>\n",
       "      <td>9</td>\n",
       "      <td>9</td>\n",
       "      <td>Teleportation</td>\n",
       "      <td>Eternal nothingness</td>\n",
       "      <td>Let 100 random people die</td>\n",
       "      <td>Umami</td>\n",
       "      <td>Egg</td>\n",
       "      <td>medium-well</td>\n",
       "    </tr>\n",
       "    <tr>\n",
       "      <th>4</th>\n",
       "      <td>2023/11/16 11:08:12 AM GMT</td>\n",
       "      <td>3</td>\n",
       "      <td>7</td>\n",
       "      <td>3</td>\n",
       "      <td>Mind reading</td>\n",
       "      <td>Afterlife</td>\n",
       "      <td>Let the love of your life die</td>\n",
       "      <td>Salty</td>\n",
       "      <td>Chicken</td>\n",
       "      <td>medium rare</td>\n",
       "    </tr>\n",
       "    <tr>\n",
       "      <th>5</th>\n",
       "      <td>2023/11/16 11:32:07 AM GMT</td>\n",
       "      <td>1</td>\n",
       "      <td>5</td>\n",
       "      <td>2</td>\n",
       "      <td>Teleportation</td>\n",
       "      <td>Eternal nothingness</td>\n",
       "      <td>Let 100 random people die</td>\n",
       "      <td>Salty</td>\n",
       "      <td>Chicken</td>\n",
       "      <td>medium</td>\n",
       "    </tr>\n",
       "    <tr>\n",
       "      <th>6</th>\n",
       "      <td>2023/11/16 11:59:17 AM GMT</td>\n",
       "      <td>0</td>\n",
       "      <td>2</td>\n",
       "      <td>2</td>\n",
       "      <td>Teleportation</td>\n",
       "      <td>Afterlife</td>\n",
       "      <td>Let the love of your life die</td>\n",
       "      <td>Sweet</td>\n",
       "      <td>Chicken</td>\n",
       "      <td>medium-well</td>\n",
       "    </tr>\n",
       "    <tr>\n",
       "      <th>7</th>\n",
       "      <td>2023/11/16 11:59:54 AM GMT</td>\n",
       "      <td>1</td>\n",
       "      <td>6</td>\n",
       "      <td>1</td>\n",
       "      <td>Super speed</td>\n",
       "      <td>Reincarnation</td>\n",
       "      <td>Let 100 random people die</td>\n",
       "      <td>Salty</td>\n",
       "      <td>Chicken</td>\n",
       "      <td>medium</td>\n",
       "    </tr>\n",
       "    <tr>\n",
       "      <th>8</th>\n",
       "      <td>2023/11/16 12:17:12 PM GMT</td>\n",
       "      <td>2</td>\n",
       "      <td>5</td>\n",
       "      <td>1</td>\n",
       "      <td>Super speed</td>\n",
       "      <td>Afterlife</td>\n",
       "      <td>Let the love of your life die</td>\n",
       "      <td>Salty</td>\n",
       "      <td>Egg</td>\n",
       "      <td>medium rare</td>\n",
       "    </tr>\n",
       "    <tr>\n",
       "      <th>9</th>\n",
       "      <td>2023/11/16 12:19:40 PM GMT</td>\n",
       "      <td>1</td>\n",
       "      <td>9</td>\n",
       "      <td>10</td>\n",
       "      <td>Telekinesis</td>\n",
       "      <td>Afterlife</td>\n",
       "      <td>Let the love of your life die</td>\n",
       "      <td>Umami</td>\n",
       "      <td>Chicken</td>\n",
       "      <td>I don't eat steak</td>\n",
       "    </tr>\n",
       "    <tr>\n",
       "      <th>10</th>\n",
       "      <td>2023/11/16 12:24:37 PM GMT</td>\n",
       "      <td>1</td>\n",
       "      <td>1</td>\n",
       "      <td>1</td>\n",
       "      <td>Telekinesis</td>\n",
       "      <td>Eternal nothingness</td>\n",
       "      <td>Let 100 random people die</td>\n",
       "      <td>Salty</td>\n",
       "      <td>Chicken</td>\n",
       "      <td>medium rare</td>\n",
       "    </tr>\n",
       "    <tr>\n",
       "      <th>11</th>\n",
       "      <td>2023/11/16 12:24:42 PM GMT</td>\n",
       "      <td>0</td>\n",
       "      <td>8</td>\n",
       "      <td>3</td>\n",
       "      <td>Mind reading</td>\n",
       "      <td>Eternal nothingness</td>\n",
       "      <td>Let the love of your life die</td>\n",
       "      <td>Salty</td>\n",
       "      <td>Egg</td>\n",
       "      <td>I don't eat steak</td>\n",
       "    </tr>\n",
       "    <tr>\n",
       "      <th>12</th>\n",
       "      <td>2023/11/16 12:25:52 PM GMT</td>\n",
       "      <td>2</td>\n",
       "      <td>2</td>\n",
       "      <td>1</td>\n",
       "      <td>Invisibility</td>\n",
       "      <td>Afterlife</td>\n",
       "      <td>Let the love of your life die</td>\n",
       "      <td>Sour</td>\n",
       "      <td>Egg</td>\n",
       "      <td>medium-well</td>\n",
       "    </tr>\n",
       "    <tr>\n",
       "      <th>13</th>\n",
       "      <td>2023/11/16 1:31:59 PM GMT</td>\n",
       "      <td>0</td>\n",
       "      <td>9</td>\n",
       "      <td>5</td>\n",
       "      <td>Shapeshifting</td>\n",
       "      <td>Reincarnation</td>\n",
       "      <td>Let the love of your life die</td>\n",
       "      <td>Sweet</td>\n",
       "      <td>Egg</td>\n",
       "      <td>well done</td>\n",
       "    </tr>\n",
       "  </tbody>\n",
       "</table>\n",
       "</div>"
      ],
      "text/plain": [
       "                     Timestamp  language  coding  maths     superpower  \\\n",
       "0   2023/11/16 10:35:48 AM GMT         2       8      6  Shapeshifting   \n",
       "1   2023/11/16 10:54:59 AM GMT         1       7      7    Telekinesis   \n",
       "2   2023/11/16 10:56:42 AM GMT         0       7      6  Teleportation   \n",
       "3   2023/11/16 10:58:03 AM GMT         1       9      9  Teleportation   \n",
       "4   2023/11/16 11:08:12 AM GMT         3       7      3   Mind reading   \n",
       "5   2023/11/16 11:32:07 AM GMT         1       5      2  Teleportation   \n",
       "6   2023/11/16 11:59:17 AM GMT         0       2      2  Teleportation   \n",
       "7   2023/11/16 11:59:54 AM GMT         1       6      1    Super speed   \n",
       "8   2023/11/16 12:17:12 PM GMT         2       5      1    Super speed   \n",
       "9   2023/11/16 12:19:40 PM GMT         1       9     10    Telekinesis   \n",
       "10  2023/11/16 12:24:37 PM GMT         1       1      1    Telekinesis   \n",
       "11  2023/11/16 12:24:42 PM GMT         0       8      3   Mind reading   \n",
       "12  2023/11/16 12:25:52 PM GMT         2       2      1   Invisibility   \n",
       "13   2023/11/16 1:31:59 PM GMT         0       9      5  Shapeshifting   \n",
       "\n",
       "              Afterlife                           love flavour      egg  \\\n",
       "0   Eternal nothingness  Let the love of your life die   Salty  Chicken   \n",
       "1             Afterlife      Let 100 random people die   Umami  Chicken   \n",
       "2   Eternal nothingness  Let the love of your life die   Umami      Egg   \n",
       "3   Eternal nothingness      Let 100 random people die   Umami      Egg   \n",
       "4             Afterlife  Let the love of your life die   Salty  Chicken   \n",
       "5   Eternal nothingness      Let 100 random people die   Salty  Chicken   \n",
       "6             Afterlife  Let the love of your life die   Sweet  Chicken   \n",
       "7         Reincarnation      Let 100 random people die   Salty  Chicken   \n",
       "8             Afterlife  Let the love of your life die   Salty      Egg   \n",
       "9             Afterlife  Let the love of your life die   Umami  Chicken   \n",
       "10  Eternal nothingness      Let 100 random people die   Salty  Chicken   \n",
       "11  Eternal nothingness  Let the love of your life die   Salty      Egg   \n",
       "12            Afterlife  Let the love of your life die    Sour      Egg   \n",
       "13        Reincarnation  Let the love of your life die   Sweet      Egg   \n",
       "\n",
       "                steak  \n",
       "0   I don't eat steak  \n",
       "1         medium rare  \n",
       "2         medium rare  \n",
       "3         medium-well  \n",
       "4         medium rare  \n",
       "5              medium  \n",
       "6         medium-well  \n",
       "7              medium  \n",
       "8         medium rare  \n",
       "9   I don't eat steak  \n",
       "10        medium rare  \n",
       "11  I don't eat steak  \n",
       "12        medium-well  \n",
       "13          well done  "
      ]
     },
     "metadata": {},
     "output_type": "display_data"
    }
   ],
   "source": [
    "display(answers)"
   ]
  },
  {
   "cell_type": "code",
   "execution_count": 6,
   "id": "5d8cb1ad-ad00-41ea-af74-e4371307c41f",
   "metadata": {},
   "outputs": [
    {
     "data": {
      "text/plain": [
       "0     2\n",
       "1     1\n",
       "2     0\n",
       "3     1\n",
       "4     3\n",
       "5     1\n",
       "6     0\n",
       "7     1\n",
       "8     2\n",
       "9     1\n",
       "10    1\n",
       "11    0\n",
       "12    2\n",
       "13    0\n",
       "Name: language, dtype: int64"
      ]
     },
     "execution_count": 6,
     "metadata": {},
     "output_type": "execute_result"
    }
   ],
   "source": [
    "answers.language"
   ]
  },
  {
   "cell_type": "code",
   "execution_count": 9,
   "id": "a2177b37-ac4f-4de2-a05b-d645bca3aca7",
   "metadata": {},
   "outputs": [],
   "source": [
    "import matplotlib.pyplot as plt"
   ]
  },
  {
   "cell_type": "code",
   "execution_count": 34,
   "id": "325e7b1c-4dd1-478c-96de-61d07348b9f2",
   "metadata": {},
   "outputs": [
    {
     "data": {
      "text/plain": [
       "Text(0.5, 1.0, 'Number of non native languages spoken')"
      ]
     },
     "execution_count": 34,
     "metadata": {},
     "output_type": "execute_result"
    },
    {
     "data": {
      "image/png": "[encoded data removed]",
      "text/plain": [
       "<Figure size 640x480 with 1 Axes>"
      ]
     },
     "metadata": {},
     "output_type": "display_data"
    }
   ],
   "source": [
    "plt.hist(answers.language, bins=10)\n",
    "plt.axis([0, 5, 0, 7])\n",
    "plt.xlabel('no. of languages')\n",
    "plt.ylabel(\"no. of answers\")\n",
    "plt.title(\"Number of non native languages spoken\")"
   ]
  },
  {
   "cell_type": "code",
   "execution_count": 67,
   "id": "f848c7ac-527b-4596-b100-6a29c0d63e30",
   "metadata": {},
   "outputs": [
    {
     "data": {
      "text/plain": [
       "Text(0.5, 1.0, 'Enjoyment of coding on a scale of 1-10')"
      ]
     },
     "execution_count": 67,
     "metadata": {},
     "output_type": "execute_result"
    },
    {
     "data": {
      "image/png": "[encoded data removed]",
      "text/plain": [
       "<Figure size 640x480 with 1 Axes>"
      ]
     },
     "metadata": {},
     "output_type": "display_data"
    }
   ],
   "source": [
    "plt.hist(answers.coding, bins=20)\n",
    "plt.axis([0, 9, 0, 5])\n",
    "plt.xlabel('coding')\n",
    "plt.ylabel(\"no. of answers\")\n",
    "plt.title(\"Enjoyment of coding on a scale of 1-10\")"
   ]
  },
  {
   "cell_type": "code",
   "execution_count": 69,
   "id": "45ac7a4b-dffc-45ad-a710-583abf1812b9",
   "metadata": {},
   "outputs": [
    {
     "data": {
      "text/plain": [
       "Text(0.5, 1.0, 'Enjoyment of maths on a scale of 1-10')"
      ]
     },
     "execution_count": 69,
     "metadata": {},
     "output_type": "execute_result"
    },
    {
     "data": {
      "image/png": "[encoded data removed]",
      "text/plain": [
       "<Figure size 640x480 with 1 Axes>"
      ]
     },
     "metadata": {},
     "output_type": "display_data"
    }
   ],
   "source": [
    "plt.hist(answers.maths, bins=20)\n",
    "plt.axis([0, 9, 0, 5])\n",
    "plt.xlabel('maths')\n",
    "plt.ylabel(\"no. of answers\")\n",
    "plt.title(\"Enjoyment of maths on a scale of 1-10\")"
   ]
  },
  {
   "cell_type": "code",
   "execution_count": 74,
   "id": "03674fb8-487a-4484-9e37-b91222b811d9",
   "metadata": {},
   "outputs": [],
   "source": [
    "import numpy as np"
   ]
  },
  {
   "cell_type": "code",
   "execution_count": 75,
   "id": "40cff36a-33ef-4734-b14a-780a14bd785f",
   "metadata": {},
   "outputs": [
    {
     "data": {
      "text/plain": [
       "0.7445238069300775"
      ]
     },
     "execution_count": 75,
     "metadata": {},
     "output_type": "execute_result"
    }
   ],
   "source": [
    "y = pd.Series(answers.maths)\n",
    "x = pd.Series(answers.coding)\n",
    "correlation = y.corr(x)\n",
    "correlation "
   ]
  },
  {
   "cell_type": "code",
   "execution_count": 78,
   "id": "aad5cc61-fe2c-404c-bb3a-2532458165b5",
   "metadata": {},
   "outputs": [
    {
     "data": {
      "text/plain": [
       "[<matplotlib.lines.Line2D at 0x1d4f0b16d80>]"
      ]
     },
     "execution_count": 78,
     "metadata": {},
     "output_type": "execute_result"
    },
    {
     "data": {
      "image/png": "[encoded data removed]",
      "text/plain": [
       "<Figure size 640x480 with 1 Axes>"
      ]
     },
     "metadata": {},
     "output_type": "display_data"
    }
   ],
   "source": [
    "plt.xlabel('coding')\n",
    "plt.ylabel(\"maths\")\n",
    "plt.scatter(x, y)\n",
    "plt.plot(np.unique(x), np.poly1d(np.polyfit(x, y, 1))\n",
    "         (np.unique(x)), color='red')"
   ]
  },
  {
   "cell_type": "code",
   "execution_count": 81,
   "id": "ffad6287-852a-44be-9cc4-97cb221e7f68",
   "metadata": {},
   "outputs": [
    {
     "data": {
      "text/plain": [
       "-0.09436975256490274"
      ]
     },
     "execution_count": 81,
     "metadata": {},
     "output_type": "execute_result"
    }
   ],
   "source": [
    "y = pd.Series(answers.language)\n",
    "x = pd.Series(answers.coding)\n",
    "correlation = y.corr(x)\n",
    "correlation "
   ]
  },
  {
   "cell_type": "code",
   "execution_count": 83,
   "id": "f2443b40-c3fd-4145-b01b-a4d4b800b84d",
   "metadata": {},
   "outputs": [
    {
     "data": {
      "text/plain": [
       "[<matplotlib.lines.Line2D at 0x1d4ee0d39e0>]"
      ]
     },
     "execution_count": 83,
     "metadata": {},
     "output_type": "execute_result"
    },
    {
     "data": {
      "image/png": "[encoded data removed]",
      "text/plain": [
       "<Figure size 640x480 with 1 Axes>"
      ]
     },
     "metadata": {},
     "output_type": "display_data"
    }
   ],
   "source": [
    "plt.xlabel('coding')\n",
    "plt.ylabel(\"language\")\n",
    "plt.scatter(x, y)\n",
    "plt.plot(np.unique(x), np.poly1d(np.polyfit(x, y, 1))\n",
    "         (np.unique(x)), color='red')"
   ]
  },
  {
   "cell_type": "code",
   "execution_count": null,
   "id": "babdb47d-be70-45ea-9cd0-49d9716092e5",
   "metadata": {},
   "outputs": [],
   "source": [
    "y = pd.Series(answers.maths)\n",
    "x = pd.Series(answers.coding)\n",
    "correlation = y.corr(x)\n",
    "correlation "
   ]
  }
 ],
 "metadata": {
  "kernelspec": {
   "display_name": "Python 3 (ipykernel)",
   "language": "python",
   "name": "python3"
  },
  "language_info": {
   "codemirror_mode": {
    "name": "ipython",
    "version": 3
   },
   "file_extension": ".py",
   "mimetype": "text/x-python",
   "name": "python",
   "nbconvert_exporter": "python",
   "pygments_lexer": "ipython3",
   "version": "3.12.0"
  }
 },
 "nbformat": 4,
 "nbformat_minor": 5
}
